{
 "cells": [
  {
   "cell_type": "markdown",
   "metadata": {},
   "source": [
    "# GaussianMixture"
   ]
  },
  {
   "cell_type": "code",
   "execution_count": 1,
   "metadata": {},
   "outputs": [
    {
     "data": {
      "image/png": "[encoded data removed]",
      "text/plain": [
       "<matplotlib.figure.Figure at 0x8657588>"
      ]
     },
     "metadata": {},
     "output_type": "display_data"
    }
   ],
   "source": [
    "#!/opt/local/bin/python\n",
    "import numpy as np\n",
    "import matplotlib.pyplot as plt\n",
    "from sklearn.mixture import GaussianMixture\n",
    "\n",
    "# Define simple gaussian\n",
    "def gauss_function(x, amp, x0, sigma):\n",
    "    return amp * np.exp(-(x - x0) ** 2. / (2. * sigma ** 2.))\n",
    "\n",
    "# Generate sample from three gaussian distributions\n",
    "samples = np.random.normal(-0.5, 0.2, 2000)\n",
    "samples = np.append(samples, np.random.normal(-0.1, 0.07, 5000))\n",
    "samples = np.append(samples, np.random.normal(0.2, 0.13, 10000))\n",
    "\n",
    "# Fit GMM\n",
    "gmm = GaussianMixture(n_components=3, covariance_type=\"full\", tol=0.001)\n",
    "gmm = gmm.fit(X=np.expand_dims(samples, 1))\n",
    "\n",
    "# Evaluate GMM\n",
    "gmm_x = np.linspace(-2, 1.5, 5000)\n",
    "gmm_y = np.exp(gmm.score_samples(gmm_x.reshape(-1, 1)))\n",
    "\n",
    "# Construct function manually as sum of gaussians\n",
    "gmm_y_sum = np.full_like(gmm_x, fill_value=0, dtype=np.float32)\n",
    "for m, c, w in zip(gmm.means_.ravel(), gmm.covariances_.ravel(), \n",
    "               gmm.weights_.ravel()):\n",
    "    gmm_y_sum += gauss_function(x=gmm_x, amp=w, x0=m, sigma=np.sqrt(c))\n",
    "\n",
    "# Normalize so that integral is 1    \n",
    "gmm_y_sum /= np.trapz(gmm_y_sum, gmm_x)\n",
    "\n",
    "# Make regular histogram\n",
    "fig, ax = plt.subplots(nrows=1, ncols=1, figsize=[8, 5])\n",
    "ax.hist(samples, bins=50, normed=True, alpha=0.5, color=\"#0070FF\")\n",
    "ax.plot(gmm_x, gmm_y, color=\"crimson\", lw=4, label=\"GMM\")\n",
    "ax.plot(gmm_x, gmm_y_sum, color=\"black\", lw=4, label=\"Gauss_sum\")\n",
    "\n",
    "# Annotate diagram\n",
    "ax.set_ylabel(\"Probability density\")\n",
    "ax.set_xlabel(\"Arbitrary units\")\n",
    "\n",
    "# Draw legend\n",
    "plt.legend()\n",
    "plt.show()"
   ]
  },
  {
   "cell_type": "code",
   "execution_count": 2,
   "metadata": {},
   "outputs": [
    {
     "data": {
      "text/plain": [
       "-977.7855746602718"
      ]
     },
     "execution_count": 2,
     "metadata": {},
     "output_type": "execute_result"
    }
   ],
   "source": [
    "gmm.bic(np.expand_dims(samples,1))"
   ]
  },
  {
   "cell_type": "markdown",
   "metadata": {},
   "source": [
    "# ArdGaussianMixture"
   ]
  },
  {
   "cell_type": "code",
   "execution_count": null,
   "metadata": {},
   "outputs": [],
   "source": [
    "import sys\n",
    "sys.path.append('../code/')\n",
    "import ard_em; reload(ard_em)\n",
    "from ard_em import GaussianMixtureARD\n",
    "gmm = GaussianMixtureARD(init_components=60, covariance_type=\"full\", tol=0.001)\n",
    "gmm = gmm.fit(X=np.expand_dims(samples, 1))\n",
    "\n",
    "print('Best number of components: %d' % gmm.n_components)\n",
    "\n",
    "# Evaluate GMM\n",
    "gmm_x = np.linspace(-2, 1.5, 5000)\n",
    "gmm_y = np.exp(gmm.score_samples(gmm_x.reshape(-1, 1)))\n",
    "\n",
    "# Construct function manually as sum of gaussians\n",
    "gmm_y_sum = np.full_like(gmm_x, fill_value=0, dtype=np.float32)\n",
    "for m, c, w in zip(gmm.means_.ravel(), gmm.covariances_.ravel(), \n",
    "               gmm.weights_.ravel()):\n",
    "    gmm_y_sum += gauss_function(x=gmm_x, amp=w, x0=m, sigma=np.sqrt(c))\n",
    "\n",
    "# Normalize so that integral is 1    \n",
    "gmm_y_sum /= np.trapz(gmm_y_sum, gmm_x)\n",
    "\n",
    "# Make regular histogram\n",
    "fig, ax = plt.subplots(nrows=1, ncols=1, figsize=[8, 5])\n",
    "ax.hist(samples, bins=50, normed=True, alpha=0.5, color=\"#0070FF\")\n",
    "ax.plot(gmm_x, gmm_y, color=\"crimson\", lw=4, label=\"GMM\")\n",
    "ax.plot(gmm_x, gmm_y_sum, color=\"black\", lw=4, label=\"Gauss_sum\")\n",
    "\n",
    "# Annotate diagram\n",
    "ax.set_ylabel(\"Probability density\")\n",
    "ax.set_xlabel(\"Arbitrary units\")\n",
    "\n",
    "# Draw legend\n",
    "plt.legend()\n",
    "plt.show()"
   ]
  },
  {
   "cell_type": "code",
   "execution_count": null,
   "metadata": {},
   "outputs": [],
   "source": [
    "gmm.bic(np.expand_dims(samples,1))"
   ]
  },
  {
   "cell_type": "code",
   "execution_count": null,
   "metadata": {
    "collapsed": true
   },
   "outputs": [],
   "source": [
    ""
   ]
  }
 ],
 "metadata": {
  "kernelspec": {
   "display_name": "Python 2",
   "language": "python",
   "name": "python2"
  },
  "language_info": {
   "codemirror_mode": {
    "name": "ipython",
    "version": 2.0
   },
   "file_extension": ".py",
   "mimetype": "text/x-python",
   "name": "python",
   "nbconvert_exporter": "python",
   "pygments_lexer": "ipython2",
   "version": "2.7.13"
  }
 },
 "nbformat": 4,
 "nbformat_minor": 0
}